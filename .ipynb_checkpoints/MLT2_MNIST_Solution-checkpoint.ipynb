{
 "cells": [
  {
   "cell_type": "markdown",
   "id": "2ce7846b-d162-4f0e-b5f8-657b57b9475e",
   "metadata": {},
   "source": [
    "<img src=\"https://cellstrat2.s3.amazonaws.com/PlatformAssets/bluewhitelogo.svg\" alt=\"drawing\" width=\"200\"/>\n",
    "\n",
    "# ML Tuesdays - Session 2\n",
    "## Deep Learning Track\n",
    "### MNIST Digit Classification Exercise\n",
    "\n",
    "Train a simple neural network in PyTorch to classify handwritten digits using the MNIST dataset.\n",
    "\n",
    "### Guidelines\n",
    "1. Use the `PyTorch 1.9` kernel in CellStrat Hub.\n",
    "2. The notebook has been split into multiple steps.\n",
    "3. Refer the [PyTorch Quickstart Tutorial](https://pytorch.org/tutorials/beginner/basics/quickstart_tutorial.html) as this exercise is based on that.\n",
    "4. Refer the official [PyTorch Documentation](https://pytorch.org/docs/stable/index.html)\n",
    "5. Make use of the docstrings of the functions and classes using the `shift+tab` shortcut key.\n",
    "6. Refer the internet for any extra help needed."
   ]
  },
  {
   "cell_type": "code",
   "execution_count": 57,
   "id": "e0acf831-bde9-4874-a3fc-3d964ad46d48",
   "metadata": {},
   "outputs": [],
   "source": [
    "import torch\n",
    "from torch import nn\n",
    "from torch.utils.data import DataLoader\n",
    "from torchvision import datasets\n",
    "from torchvision.transforms import ToTensor"
   ]
  },
  {
   "cell_type": "markdown",
   "id": "235e73e0-adfc-4706-a173-d4fcba4fb847",
   "metadata": {},
   "source": [
    "## Load Data\n",
    "\n",
    "Load the MNIST dataset using torchvision's datasets and add a transform which converts the images to PyTorch Tensors."
   ]
  },
  {
   "cell_type": "code",
   "execution_count": 8,
   "id": "78e3cd41-b920-4993-a331-f88bcd7aee40",
   "metadata": {
    "scrolled": true,
    "tags": []
   },
   "outputs": [
    {
     "name": "stdout",
     "output_type": "stream",
     "text": [
      "Downloading http://yann.lecun.com/exdb/mnist/train-images-idx3-ubyte.gz\n",
      "Downloading http://yann.lecun.com/exdb/mnist/train-images-idx3-ubyte.gz to data/MNIST/raw/train-images-idx3-ubyte.gz\n"
     ]
    },
    {
     "data": {
      "application/vnd.jupyter.widget-view+json": {
       "model_id": "a444ebdafad74a70bb9a2017ef0f0c8d",
       "version_major": 2,
       "version_minor": 0
      },
      "text/plain": [
       "  0%|          | 0/9912422 [00:00<?, ?it/s]"
      ]
     },
     "metadata": {},
     "output_type": "display_data"
    },
    {
     "name": "stdout",
     "output_type": "stream",
     "text": [
      "Extracting data/MNIST/raw/train-images-idx3-ubyte.gz to data/MNIST/raw\n",
      "\n",
      "Downloading http://yann.lecun.com/exdb/mnist/train-labels-idx1-ubyte.gz\n",
      "Downloading http://yann.lecun.com/exdb/mnist/train-labels-idx1-ubyte.gz to data/MNIST/raw/train-labels-idx1-ubyte.gz\n"
     ]
    },
    {
     "data": {
      "application/vnd.jupyter.widget-view+json": {
       "model_id": "eb37fdb61b004ee591930b07c51777ae",
       "version_major": 2,
       "version_minor": 0
      },
      "text/plain": [
       "  0%|          | 0/28881 [00:00<?, ?it/s]"
      ]
     },
     "metadata": {},
     "output_type": "display_data"
    },
    {
     "name": "stdout",
     "output_type": "stream",
     "text": [
      "Extracting data/MNIST/raw/train-labels-idx1-ubyte.gz to data/MNIST/raw\n",
      "\n",
      "Downloading http://yann.lecun.com/exdb/mnist/t10k-images-idx3-ubyte.gz\n",
      "Downloading http://yann.lecun.com/exdb/mnist/t10k-images-idx3-ubyte.gz to data/MNIST/raw/t10k-images-idx3-ubyte.gz\n"
     ]
    },
    {
     "data": {
      "application/vnd.jupyter.widget-view+json": {
       "model_id": "0d37c83446d248578f45e8551cbd13e9",
       "version_major": 2,
       "version_minor": 0
      },
      "text/plain": [
       "  0%|          | 0/1648877 [00:00<?, ?it/s]"
      ]
     },
     "metadata": {},
     "output_type": "display_data"
    },
    {
     "name": "stdout",
     "output_type": "stream",
     "text": [
      "Extracting data/MNIST/raw/t10k-images-idx3-ubyte.gz to data/MNIST/raw\n",
      "\n",
      "Downloading http://yann.lecun.com/exdb/mnist/t10k-labels-idx1-ubyte.gz\n",
      "Downloading http://yann.lecun.com/exdb/mnist/t10k-labels-idx1-ubyte.gz to data/MNIST/raw/t10k-labels-idx1-ubyte.gz\n"
     ]
    },
    {
     "data": {
      "application/vnd.jupyter.widget-view+json": {
       "model_id": "4f81a4c9ff6d4324bf2ff34e8334d184",
       "version_major": 2,
       "version_minor": 0
      },
      "text/plain": [
       "  0%|          | 0/4542 [00:00<?, ?it/s]"
      ]
     },
     "metadata": {},
     "output_type": "display_data"
    },
    {
     "name": "stdout",
     "output_type": "stream",
     "text": [
      "Extracting data/MNIST/raw/t10k-labels-idx1-ubyte.gz to data/MNIST/raw\n",
      "\n"
     ]
    },
    {
     "name": "stderr",
     "output_type": "stream",
     "text": [
      "/home/ubuntu/anaconda3/envs/pytorch/lib/python3.8/site-packages/torchvision/datasets/mnist.py:498: UserWarning: The given NumPy array is not writeable, and PyTorch does not support non-writeable tensors. This means you can write to the underlying (supposedly non-writeable) NumPy array using the tensor. You may want to copy the array to protect its data or make it writeable before converting it to a tensor. This type of warning will be suppressed for the rest of this program. (Triggered internally at  /opt/conda/conda-bld/pytorch_1623448216815/work/torch/csrc/utils/tensor_numpy.cpp:180.)\n",
      "  return torch.from_numpy(parsed.astype(m[2], copy=False)).view(*s)\n"
     ]
    }
   ],
   "source": [
    "# Download training data from open datasets.\n",
    "training_data = datasets.MNIST(\n",
    "    root=\"data\",\n",
    "    train=True,\n",
    "    download=True,\n",
    "    transform=ToTensor(),\n",
    ")\n",
    "\n",
    "# Download test data from open datasets.\n",
    "test_data = datasets.MNIST(\n",
    "    root=\"data\",\n",
    "    train=False,\n",
    "    download=True,\n",
    "    transform=ToTensor(),\n",
    ")"
   ]
  },
  {
   "cell_type": "markdown",
   "id": "f5a908f0-be86-4fbb-a254-f3d498f50326",
   "metadata": {},
   "source": [
    "## Create DataLoader\n",
    "Create a dataloader for the dataset and with a batch size of 96."
   ]
  },
  {
   "cell_type": "code",
   "execution_count": 11,
   "id": "d36a26e6-649f-4e8d-a83c-31a28f38af55",
   "metadata": {},
   "outputs": [
    {
     "name": "stdout",
     "output_type": "stream",
     "text": [
      "Shape of X [N, C, H, W]:  torch.Size([96, 1, 28, 28])\n",
      "Shape of y:  torch.Size([96]) torch.int64\n"
     ]
    }
   ],
   "source": [
    "batch_size = 96\n",
    "\n",
    "# Create data loaders.\n",
    "train_dataloader = DataLoader(training_data, batch_size=batch_size)\n",
    "test_dataloader = DataLoader(test_data, batch_size=batch_size)\n",
    "\n",
    "for X, y in test_dataloader:\n",
    "    print(\"Shape of X [N, C, H, W]: \", X.shape)\n",
    "    print(\"Shape of y: \", y.shape, y.dtype)\n",
    "    break"
   ]
  },
  {
   "cell_type": "markdown",
   "id": "eeb121ca-bd25-4ec1-8991-45f57ada7ee2",
   "metadata": {
    "tags": []
   },
   "source": [
    "## Build Model\n",
    "\n",
    "Create a simple neural network which has 2 hidden layers atleast with 256 and 512 neurons in each. Try with different network configurations and see if the performance improves after training."
   ]
  },
  {
   "cell_type": "code",
   "execution_count": 14,
   "id": "a1b2f892-9148-4eb3-9fff-a3800d29729b",
   "metadata": {},
   "outputs": [
    {
     "name": "stdout",
     "output_type": "stream",
     "text": [
      "Using cpu device\n"
     ]
    }
   ],
   "source": [
    "# Get cpu or gpu device automatically for training.\n",
    "device = \"cuda\" if torch.cuda.is_available() else \"cpu\"\n",
    "print(f\"Using {device} device\")"
   ]
  },
  {
   "cell_type": "code",
   "execution_count": 20,
   "id": "4c976118-c725-4367-ae55-735d646fc13f",
   "metadata": {},
   "outputs": [
    {
     "name": "stdout",
     "output_type": "stream",
     "text": [
      "NeuralNetwork(\n",
      "  (flatten): Flatten(start_dim=1, end_dim=-1)\n",
      "  (linear_relu_stack): Sequential(\n",
      "    (0): Linear(in_features=784, out_features=256, bias=True)\n",
      "    (1): ReLU()\n",
      "    (2): Linear(in_features=256, out_features=512, bias=True)\n",
      "    (3): ReLU()\n",
      "    (4): Linear(in_features=512, out_features=10, bias=True)\n",
      "  )\n",
      ")\n"
     ]
    }
   ],
   "source": [
    "class NeuralNetwork(nn.Module):\n",
    "    def __init__(self):\n",
    "        super(NeuralNetwork, self).__init__()\n",
    "        self.flatten = nn.Flatten()\n",
    "        self.linear_relu_stack = nn.Sequential(\n",
    "            nn.Linear(28*28, 256),\n",
    "            nn.ReLU(),\n",
    "            nn.Linear(256, 512),\n",
    "            nn.ReLU(),\n",
    "            nn.Linear(512, 10)\n",
    "        )\n",
    "\n",
    "    def forward(self, x):\n",
    "        x = self.flatten(x)\n",
    "        logits = self.linear_relu_stack(x)\n",
    "        return logits\n",
    "\n",
    "model = NeuralNetwork().to(device)\n",
    "print(model)"
   ]
  },
  {
   "cell_type": "markdown",
   "id": "d3446603-e1c3-43d1-a607-5012bfc19508",
   "metadata": {},
   "source": [
    "## Training\n",
    "\n",
    "1. Define a `CrossEntropyLoss()` loss function\n",
    "2. Create a `Adam` optimizer with learning rate `0.005`\n",
    "3. Write the training and evaluation loop for the train and test sets"
   ]
  },
  {
   "cell_type": "code",
   "execution_count": 21,
   "id": "7e9def2e-daf7-4ae4-a5c7-28d5500cc20e",
   "metadata": {},
   "outputs": [],
   "source": [
    "criterion = nn.CrossEntropyLoss()\n",
    "optimizer = torch.optim.Adam(model.parameters(), lr=1e-3)"
   ]
  },
  {
   "cell_type": "code",
   "execution_count": 22,
   "id": "85af0647-6208-46f7-a08c-eee9cefad924",
   "metadata": {},
   "outputs": [],
   "source": [
    "def train(dataloader, model, loss_fn, optimizer):\n",
    "    size = len(dataloader.dataset)\n",
    "    \n",
    "    # set the model to train mode\n",
    "    model.train()\n",
    "    for batch, (X, y) in enumerate(dataloader):\n",
    "        # Move the inputs to device\n",
    "        X, y = X.to(device), y.to(device)\n",
    "\n",
    "        # Model forward pass\n",
    "        pred = model(X)\n",
    "        \n",
    "        # Compute the loss\n",
    "        loss = criterion(pred, y)\n",
    "\n",
    "        # Backpropagation\n",
    "        optimizer.zero_grad()\n",
    "        loss.backward()\n",
    "        optimizer.step()\n",
    "\n",
    "        if batch % 100 == 0:\n",
    "            loss, current = loss.item(), batch * len(X)\n",
    "            print(f\"Train Loss: {loss:>7f}  [{current:>5d}/{size:>5d}]\")"
   ]
  },
  {
   "cell_type": "code",
   "execution_count": 23,
   "id": "de073ceb-d0f1-42aa-85b0-842e2994fd9a",
   "metadata": {},
   "outputs": [],
   "source": [
    "def test(dataloader, model, loss_fn):\n",
    "    size = len(dataloader.dataset)\n",
    "    num_batches = len(dataloader)\n",
    "    \n",
    "    # set the model to eval mode\n",
    "    model.eval()\n",
    "    \n",
    "    test_loss, correct = 0, 0\n",
    "    \n",
    "    with torch.no_grad():\n",
    "        for X, y in dataloader:\n",
    "            # Move the inputs to device\n",
    "            X, y = X.to(device), y.to(device)\n",
    "            \n",
    "            # Model forward pass\n",
    "            pred = model(X)\n",
    "            \n",
    "            # Compute the loss and add it to the test_loss variable\n",
    "            test_loss += criterion(pred, y).item()\n",
    "            \n",
    "            # Calculate the number of correct predictions and add it to correct variable\n",
    "            correct += (pred.argmax(1) == y).type(torch.float).sum().item()\n",
    "    \n",
    "    # Calculate Mean loss and accuracy\n",
    "    test_loss /= num_batches\n",
    "    correct /= size\n",
    "    print(f\"Test Error: \\n Accuracy: {(100*correct):>0.1f}%, Avg loss: {test_loss:>8f} \\n\")"
   ]
  },
  {
   "cell_type": "code",
   "execution_count": 25,
   "id": "f5731352-cda1-4626-aab6-1f5ad350dba5",
   "metadata": {},
   "outputs": [
    {
     "name": "stdout",
     "output_type": "stream",
     "text": [
      "Epoch 1\n",
      "-------------------------------\n",
      "Train Loss: 0.043507  [    0/60000]\n",
      "Train Loss: 0.024805  [ 9600/60000]\n",
      "Train Loss: 0.014952  [19200/60000]\n",
      "Train Loss: 0.044510  [28800/60000]\n",
      "Train Loss: 0.025282  [38400/60000]\n",
      "Train Loss: 0.034831  [48000/60000]\n",
      "Train Loss: 0.095949  [57600/60000]\n",
      "Test Error: \n",
      " Accuracy: 96.4%, Avg loss: 0.118201 \n",
      "\n",
      "Epoch 2\n",
      "-------------------------------\n",
      "Train Loss: 0.036612  [    0/60000]\n",
      "Train Loss: 0.010698  [ 9600/60000]\n",
      "Train Loss: 0.035523  [19200/60000]\n",
      "Train Loss: 0.042605  [28800/60000]\n",
      "Train Loss: 0.010306  [38400/60000]\n",
      "Train Loss: 0.013852  [48000/60000]\n",
      "Train Loss: 0.056493  [57600/60000]\n",
      "Test Error: \n",
      " Accuracy: 95.2%, Avg loss: 0.170053 \n",
      "\n",
      "Epoch 3\n",
      "-------------------------------\n",
      "Train Loss: 0.030927  [    0/60000]\n",
      "Train Loss: 0.010297  [ 9600/60000]\n",
      "Train Loss: 0.022234  [19200/60000]\n",
      "Train Loss: 0.017601  [28800/60000]\n",
      "Train Loss: 0.005931  [38400/60000]\n",
      "Train Loss: 0.018583  [48000/60000]\n",
      "Train Loss: 0.031156  [57600/60000]\n",
      "Test Error: \n",
      " Accuracy: 96.4%, Avg loss: 0.126093 \n",
      "\n",
      "Epoch 4\n",
      "-------------------------------\n",
      "Train Loss: 0.018504  [    0/60000]\n",
      "Train Loss: 0.006654  [ 9600/60000]\n",
      "Train Loss: 0.009224  [19200/60000]\n",
      "Train Loss: 0.005692  [28800/60000]\n",
      "Train Loss: 0.014433  [38400/60000]\n",
      "Train Loss: 0.005249  [48000/60000]\n",
      "Train Loss: 0.017531  [57600/60000]\n",
      "Test Error: \n",
      " Accuracy: 97.5%, Avg loss: 0.099734 \n",
      "\n",
      "Epoch 5\n",
      "-------------------------------\n",
      "Train Loss: 0.027512  [    0/60000]\n",
      "Train Loss: 0.001346  [ 9600/60000]\n",
      "Train Loss: 0.008898  [19200/60000]\n",
      "Train Loss: 0.015124  [28800/60000]\n",
      "Train Loss: 0.019439  [38400/60000]\n",
      "Train Loss: 0.016102  [48000/60000]\n",
      "Train Loss: 0.007772  [57600/60000]\n",
      "Test Error: \n",
      " Accuracy: 97.9%, Avg loss: 0.084776 \n",
      "\n",
      "Training Complete!\n"
     ]
    }
   ],
   "source": [
    "# Train for 5 epochs\n",
    "epochs = 5\n",
    "\n",
    "for t in range(epochs):\n",
    "    print(f\"Epoch {t+1}\\n-------------------------------\")\n",
    "    train(train_dataloader, model, criterion, optimizer)\n",
    "    test(test_dataloader, model, criterion)\n",
    "\n",
    "print(\"Training Complete!\")"
   ]
  },
  {
   "cell_type": "markdown",
   "id": "b0ce9bb5-b953-4a8b-b330-6c0f0bfffaf0",
   "metadata": {},
   "source": [
    "## Saving Model\n",
    "\n",
    "Save the model trained as `mnist_model.pth`"
   ]
  },
  {
   "cell_type": "code",
   "execution_count": 26,
   "id": "21dd46d7-0fee-4216-90e9-56b8d806e4e3",
   "metadata": {},
   "outputs": [
    {
     "name": "stdout",
     "output_type": "stream",
     "text": [
      "Saved PyTorch Model State to mnist_model.pth\n"
     ]
    }
   ],
   "source": [
    "torch.save(model.state_dict(), \"mnist_model.pth\")\n",
    "print(\"Saved PyTorch Model State to mnist_model.pth\")"
   ]
  },
  {
   "cell_type": "markdown",
   "id": "43f6f0b0-aa0a-4db0-8a7f-7d60a15ae28a",
   "metadata": {},
   "source": [
    "## Loading Model and Making Predictions\n",
    "\n",
    "1. Crate and Load the model using the saved weights\n",
    "2. Make a prediction function so any single image (ex: from the the test data) can be used to get the final predicted class"
   ]
  },
  {
   "cell_type": "code",
   "execution_count": 27,
   "id": "fe044310-7159-4bd0-b9c2-5a5d50eb7de8",
   "metadata": {},
   "outputs": [
    {
     "data": {
      "text/plain": [
       "<All keys matched successfully>"
      ]
     },
     "execution_count": 27,
     "metadata": {},
     "output_type": "execute_result"
    }
   ],
   "source": [
    "model = NeuralNetwork()\n",
    "model.load_state_dict(torch.load(\"mnist_model.pth\"))"
   ]
  },
  {
   "cell_type": "code",
   "execution_count": 65,
   "id": "8ab83507-7c6b-4d06-a167-ad069615187d",
   "metadata": {},
   "outputs": [],
   "source": [
    "def predict(model, x):\n",
    "    '''Returns the predicted integer\n",
    "    Args:\n",
    "        model (nn.Module): The loaded model\n",
    "        x (torch.Tensor): A single test image\n",
    "    '''\n",
    "    # set the model in inference mode\n",
    "    with torch.inference_mode():\n",
    "        # forward pass on the model\n",
    "        logits = model(x)\n",
    "        \n",
    "        # use argmax to get the prediction class integer\n",
    "        pred = logits.argmax(-1)\n",
    "        \n",
    "        # return the prediction\n",
    "        return pred.item()"
   ]
  },
  {
   "cell_type": "code",
   "execution_count": 70,
   "id": "9ced4cf3-dedb-4d42-817a-5e196ccb6614",
   "metadata": {},
   "outputs": [
    {
     "name": "stdout",
     "output_type": "stream",
     "text": [
      "torch.Size([1, 28, 28])\n"
     ]
    }
   ],
   "source": [
    "# sample test input\n",
    "x, y = test_data[0]\n",
    "print(x.shape)"
   ]
  },
  {
   "cell_type": "code",
   "execution_count": 69,
   "id": "3aa49f72-67b3-46d8-9f3b-800b10ebfd63",
   "metadata": {},
   "outputs": [
    {
     "name": "stdout",
     "output_type": "stream",
     "text": [
      "Predicted: 7, Actual: 7\n"
     ]
    }
   ],
   "source": [
    "# make the prediction\n",
    "pred = predict(model, x)\n",
    "\n",
    "print(f'Predicted: {pred}, Actual: {y}')"
   ]
  },
  {
   "cell_type": "code",
   "execution_count": null,
   "id": "f4c69ed7-f8f0-4962-b164-3f4f8786330a",
   "metadata": {},
   "outputs": [],
   "source": []
  }
 ],
 "metadata": {
  "kernelspec": {
   "display_name": "PyTorch 1.9",
   "language": "python",
   "name": "pytorch"
  },
  "language_info": {
   "codemirror_mode": {
    "name": "ipython",
    "version": 3
   },
   "file_extension": ".py",
   "mimetype": "text/x-python",
   "name": "python",
   "nbconvert_exporter": "python",
   "pygments_lexer": "ipython3",
   "version": "3.8.8"
  },
  "widgets": {
   "application/vnd.jupyter.widget-state+json": {
    "state": {
     "01d71ce80d434d95b3bd617100c9c46e": {
      "model_module": "@jupyter-widgets/controls",
      "model_module_version": "1.5.0",
      "model_name": "ProgressStyleModel",
      "state": {
       "description_width": ""
      }
     },
     "02c969a068b94e968ebe102dd0366dcd": {
      "model_module": "jupyter-matplotlib",
      "model_module_version": "^0.9.0",
      "model_name": "ToolbarModel",
      "state": {
       "layout": "IPY_MODEL_b752930be53d4bc1a4197ceb1592eda7",
       "toolitems": [
        [
         "Home",
         "Reset original view",
         "home",
         "home"
        ],
        [
         "Back",
         "Back to previous view",
         "arrow-left",
         "back"
        ],
        [
         "Forward",
         "Forward to next view",
         "arrow-right",
         "forward"
        ],
        [
         "Pan",
         "Left button pans, Right button zooms\nx/y fixes axis, CTRL fixes aspect",
         "arrows",
         "pan"
        ],
        [
         "Zoom",
         "Zoom to rectangle\nx/y fixes axis, CTRL fixes aspect",
         "square-o",
         "zoom"
        ],
        [
         "Download",
         "Download plot",
         "floppy-o",
         "save_figure"
        ]
       ]
      }
     },
     "074b7d5f04de429d8480c1f2341e773a": {
      "model_module": "@jupyter-widgets/base",
      "model_module_version": "1.2.0",
      "model_name": "LayoutModel",
      "state": {}
     },
     "08f6cecdf1b047b585071cd8da6a3b4e": {
      "model_module": "@jupyter-widgets/base",
      "model_module_version": "1.2.0",
      "model_name": "LayoutModel",
      "state": {}
     },
     "0d37c83446d248578f45e8551cbd13e9": {
      "model_module": "@jupyter-widgets/controls",
      "model_module_version": "1.5.0",
      "model_name": "HBoxModel",
      "state": {
       "children": [
        "IPY_MODEL_0ff373cfb4c34c80b5596e13d3acf9eb",
        "IPY_MODEL_5cefb1de0b1444b7a81cfe9553e7a928",
        "IPY_MODEL_f7f84c628bdf4860b3fdd376b36818e3"
       ],
       "layout": "IPY_MODEL_4ae7c4bffbec4173b222272e842e401b"
      }
     },
     "0ff373cfb4c34c80b5596e13d3acf9eb": {
      "model_module": "@jupyter-widgets/controls",
      "model_module_version": "1.5.0",
      "model_name": "HTMLModel",
      "state": {
       "layout": "IPY_MODEL_b773bacf55dd4ed8affc8d9d5bb9b3e3",
       "style": "IPY_MODEL_341d4672f66244198c8e245a3f173cba"
      }
     },
     "1305252b070d40a5912676e0d963047f": {
      "model_module": "@jupyter-widgets/controls",
      "model_module_version": "1.5.0",
      "model_name": "DescriptionStyleModel",
      "state": {
       "description_width": ""
      }
     },
     "1467ab87bbed47ab881b025f26b6496c": {
      "model_module": "@jupyter-widgets/controls",
      "model_module_version": "1.5.0",
      "model_name": "HTMLModel",
      "state": {
       "layout": "IPY_MODEL_08f6cecdf1b047b585071cd8da6a3b4e",
       "style": "IPY_MODEL_592151580b6e45bd80a0ab598e9fef93",
       "value": " 5120/? [00:00&lt;00:00, 218560.05it/s]"
      }
     },
     "14b543ff91b644b6a49102398c07db9e": {
      "model_module": "@jupyter-widgets/base",
      "model_module_version": "1.2.0",
      "model_name": "LayoutModel",
      "state": {}
     },
     "1cc41fb77c1d476391b8a3cd8c89567c": {
      "model_module": "@jupyter-widgets/controls",
      "model_module_version": "1.5.0",
      "model_name": "HTMLModel",
      "state": {
       "layout": "IPY_MODEL_88672a9060ad41c694685840f3a6e58d",
       "style": "IPY_MODEL_e0e17b2353f147e4b44eaea83ce5b58f",
       "value": " 9913344/? [00:00&lt;00:00, 94115480.98it/s]"
      }
     },
     "1faa2be36ebe49a7abfb284900da4473": {
      "model_module": "@jupyter-widgets/controls",
      "model_module_version": "1.5.0",
      "model_name": "HTMLModel",
      "state": {
       "layout": "IPY_MODEL_b4832bc40472412d82139e385384f2a0",
       "style": "IPY_MODEL_1305252b070d40a5912676e0d963047f",
       "value": " 29696/? [00:00&lt;00:00, 1117888.79it/s]"
      }
     },
     "31e2b76d87e54cb1b576dc60f287ac15": {
      "model_module": "@jupyter-widgets/controls",
      "model_module_version": "1.5.0",
      "model_name": "ProgressStyleModel",
      "state": {
       "description_width": ""
      }
     },
     "341d4672f66244198c8e245a3f173cba": {
      "model_module": "@jupyter-widgets/controls",
      "model_module_version": "1.5.0",
      "model_name": "DescriptionStyleModel",
      "state": {
       "description_width": ""
      }
     },
     "3cd9c4f0a71a4096afa3c6204576c707": {
      "model_module": "@jupyter-widgets/base",
      "model_module_version": "1.2.0",
      "model_name": "LayoutModel",
      "state": {}
     },
     "3fe58a966e0941a79ac8a8d4a02f07a7": {
      "model_module": "@jupyter-widgets/base",
      "model_module_version": "1.2.0",
      "model_name": "LayoutModel",
      "state": {}
     },
     "454074df12a24fa9b1d76b6bbd77ecb5": {
      "model_module": "@jupyter-widgets/controls",
      "model_module_version": "1.5.0",
      "model_name": "HTMLModel",
      "state": {
       "layout": "IPY_MODEL_f3fc5c2822574309aeace0d018a3818a",
       "style": "IPY_MODEL_87a9dcfecd2243978f98cd607b31eae4"
      }
     },
     "4ae7c4bffbec4173b222272e842e401b": {
      "model_module": "@jupyter-widgets/base",
      "model_module_version": "1.2.0",
      "model_name": "LayoutModel",
      "state": {}
     },
     "4f81a4c9ff6d4324bf2ff34e8334d184": {
      "model_module": "@jupyter-widgets/controls",
      "model_module_version": "1.5.0",
      "model_name": "HBoxModel",
      "state": {
       "children": [
        "IPY_MODEL_6faff25425244e11818ae04619ef748e",
        "IPY_MODEL_c830f3f418e7422abdec66ff9ffdcb45",
        "IPY_MODEL_1467ab87bbed47ab881b025f26b6496c"
       ],
       "layout": "IPY_MODEL_7aa67d741ce8453981639aa826942a20"
      }
     },
     "53f68d7a14ae4059a7b793a160b54b0c": {
      "model_module": "@jupyter-widgets/controls",
      "model_module_version": "1.5.0",
      "model_name": "DescriptionStyleModel",
      "state": {
       "description_width": ""
      }
     },
     "592151580b6e45bd80a0ab598e9fef93": {
      "model_module": "@jupyter-widgets/controls",
      "model_module_version": "1.5.0",
      "model_name": "DescriptionStyleModel",
      "state": {
       "description_width": ""
      }
     },
     "5a922575b11640a09b626d9865e4f3ae": {
      "model_module": "@jupyter-widgets/base",
      "model_module_version": "1.2.0",
      "model_name": "LayoutModel",
      "state": {}
     },
     "5cefb1de0b1444b7a81cfe9553e7a928": {
      "model_module": "@jupyter-widgets/controls",
      "model_module_version": "1.5.0",
      "model_name": "FloatProgressModel",
      "state": {
       "bar_style": "success",
       "layout": "IPY_MODEL_8d5bd6db53214eb0b45209b68f6056b6",
       "max": 1648877,
       "style": "IPY_MODEL_9bd7c8876ad142a1aa0f0ad771a8af1d",
       "value": 1648877
      }
     },
     "6b50725251d347e9a3efe5d7d55a5f5f": {
      "model_module": "@jupyter-widgets/base",
      "model_module_version": "1.2.0",
      "model_name": "LayoutModel",
      "state": {}
     },
     "6faff25425244e11818ae04619ef748e": {
      "model_module": "@jupyter-widgets/controls",
      "model_module_version": "1.5.0",
      "model_name": "HTMLModel",
      "state": {
       "layout": "IPY_MODEL_a17371f20f53462ba1397c57364f0a7d",
       "style": "IPY_MODEL_53f68d7a14ae4059a7b793a160b54b0c"
      }
     },
     "71e678ed2bfa42d097f45ae724ac8d01": {
      "model_module": "@jupyter-widgets/controls",
      "model_module_version": "1.5.0",
      "model_name": "DescriptionStyleModel",
      "state": {
       "description_width": ""
      }
     },
     "7318bbaca6114efca9ee1e7598cdaa98": {
      "model_module": "@jupyter-widgets/controls",
      "model_module_version": "1.5.0",
      "model_name": "ProgressStyleModel",
      "state": {
       "description_width": ""
      }
     },
     "7aa67d741ce8453981639aa826942a20": {
      "model_module": "@jupyter-widgets/base",
      "model_module_version": "1.2.0",
      "model_name": "LayoutModel",
      "state": {}
     },
     "7bb4bffe016d466eafcd45d208e9c05c": {
      "model_module": "jupyter-matplotlib",
      "model_module_version": "^0.9.0",
      "model_name": "ToolbarModel",
      "state": {
       "layout": "IPY_MODEL_9f327b6559fb46579942fb7fcd40d796",
       "toolitems": [
        [
         "Home",
         "Reset original view",
         "home",
         "home"
        ],
        [
         "Back",
         "Back to previous view",
         "arrow-left",
         "back"
        ],
        [
         "Forward",
         "Forward to next view",
         "arrow-right",
         "forward"
        ],
        [
         "Pan",
         "Left button pans, Right button zooms\nx/y fixes axis, CTRL fixes aspect",
         "arrows",
         "pan"
        ],
        [
         "Zoom",
         "Zoom to rectangle\nx/y fixes axis, CTRL fixes aspect",
         "square-o",
         "zoom"
        ],
        [
         "Download",
         "Download plot",
         "floppy-o",
         "save_figure"
        ]
       ]
      }
     },
     "87a9dcfecd2243978f98cd607b31eae4": {
      "model_module": "@jupyter-widgets/controls",
      "model_module_version": "1.5.0",
      "model_name": "DescriptionStyleModel",
      "state": {
       "description_width": ""
      }
     },
     "88672a9060ad41c694685840f3a6e58d": {
      "model_module": "@jupyter-widgets/base",
      "model_module_version": "1.2.0",
      "model_name": "LayoutModel",
      "state": {}
     },
     "8d5bd6db53214eb0b45209b68f6056b6": {
      "model_module": "@jupyter-widgets/base",
      "model_module_version": "1.2.0",
      "model_name": "LayoutModel",
      "state": {}
     },
     "9bd7c8876ad142a1aa0f0ad771a8af1d": {
      "model_module": "@jupyter-widgets/controls",
      "model_module_version": "1.5.0",
      "model_name": "ProgressStyleModel",
      "state": {
       "description_width": ""
      }
     },
     "9f327b6559fb46579942fb7fcd40d796": {
      "model_module": "@jupyter-widgets/base",
      "model_module_version": "1.2.0",
      "model_name": "LayoutModel",
      "state": {}
     },
     "a0fd9d843bec4091b7ff739fbc96fc9a": {
      "model_module": "@jupyter-widgets/base",
      "model_module_version": "1.2.0",
      "model_name": "LayoutModel",
      "state": {}
     },
     "a17371f20f53462ba1397c57364f0a7d": {
      "model_module": "@jupyter-widgets/base",
      "model_module_version": "1.2.0",
      "model_name": "LayoutModel",
      "state": {}
     },
     "a444ebdafad74a70bb9a2017ef0f0c8d": {
      "model_module": "@jupyter-widgets/controls",
      "model_module_version": "1.5.0",
      "model_name": "HBoxModel",
      "state": {
       "children": [
        "IPY_MODEL_ba58427cc01e4a3dafcdff009f9c8965",
        "IPY_MODEL_e73f6c1a500d4826aa7098456163799f",
        "IPY_MODEL_1cc41fb77c1d476391b8a3cd8c89567c"
       ],
       "layout": "IPY_MODEL_074b7d5f04de429d8480c1f2341e773a"
      }
     },
     "aefad7c304a14a97bbec699e058a482e": {
      "model_module": "@jupyter-widgets/controls",
      "model_module_version": "1.5.0",
      "model_name": "FloatProgressModel",
      "state": {
       "bar_style": "success",
       "layout": "IPY_MODEL_be3648be75c54d918b1f408162b2ce8d",
       "max": 28881,
       "style": "IPY_MODEL_01d71ce80d434d95b3bd617100c9c46e",
       "value": 28881
      }
     },
     "b4832bc40472412d82139e385384f2a0": {
      "model_module": "@jupyter-widgets/base",
      "model_module_version": "1.2.0",
      "model_name": "LayoutModel",
      "state": {}
     },
     "b752930be53d4bc1a4197ceb1592eda7": {
      "model_module": "@jupyter-widgets/base",
      "model_module_version": "1.2.0",
      "model_name": "LayoutModel",
      "state": {}
     },
     "b773bacf55dd4ed8affc8d9d5bb9b3e3": {
      "model_module": "@jupyter-widgets/base",
      "model_module_version": "1.2.0",
      "model_name": "LayoutModel",
      "state": {}
     },
     "ba58427cc01e4a3dafcdff009f9c8965": {
      "model_module": "@jupyter-widgets/controls",
      "model_module_version": "1.5.0",
      "model_name": "HTMLModel",
      "state": {
       "layout": "IPY_MODEL_3cd9c4f0a71a4096afa3c6204576c707",
       "style": "IPY_MODEL_71e678ed2bfa42d097f45ae724ac8d01"
      }
     },
     "be3648be75c54d918b1f408162b2ce8d": {
      "model_module": "@jupyter-widgets/base",
      "model_module_version": "1.2.0",
      "model_name": "LayoutModel",
      "state": {}
     },
     "c567de2ed8514c4ea11aa832b053894c": {
      "model_module": "@jupyter-widgets/controls",
      "model_module_version": "1.5.0",
      "model_name": "DescriptionStyleModel",
      "state": {
       "description_width": ""
      }
     },
     "c830f3f418e7422abdec66ff9ffdcb45": {
      "model_module": "@jupyter-widgets/controls",
      "model_module_version": "1.5.0",
      "model_name": "FloatProgressModel",
      "state": {
       "bar_style": "success",
       "layout": "IPY_MODEL_6b50725251d347e9a3efe5d7d55a5f5f",
       "max": 4542,
       "style": "IPY_MODEL_7318bbaca6114efca9ee1e7598cdaa98",
       "value": 4542
      }
     },
     "e0e17b2353f147e4b44eaea83ce5b58f": {
      "model_module": "@jupyter-widgets/controls",
      "model_module_version": "1.5.0",
      "model_name": "DescriptionStyleModel",
      "state": {
       "description_width": ""
      }
     },
     "e73f6c1a500d4826aa7098456163799f": {
      "model_module": "@jupyter-widgets/controls",
      "model_module_version": "1.5.0",
      "model_name": "FloatProgressModel",
      "state": {
       "bar_style": "success",
       "layout": "IPY_MODEL_a0fd9d843bec4091b7ff739fbc96fc9a",
       "max": 9912422,
       "style": "IPY_MODEL_31e2b76d87e54cb1b576dc60f287ac15",
       "value": 9912422
      }
     },
     "eb37fdb61b004ee591930b07c51777ae": {
      "model_module": "@jupyter-widgets/controls",
      "model_module_version": "1.5.0",
      "model_name": "HBoxModel",
      "state": {
       "children": [
        "IPY_MODEL_454074df12a24fa9b1d76b6bbd77ecb5",
        "IPY_MODEL_aefad7c304a14a97bbec699e058a482e",
        "IPY_MODEL_1faa2be36ebe49a7abfb284900da4473"
       ],
       "layout": "IPY_MODEL_3fe58a966e0941a79ac8a8d4a02f07a7"
      }
     },
     "f3fc5c2822574309aeace0d018a3818a": {
      "model_module": "@jupyter-widgets/base",
      "model_module_version": "1.2.0",
      "model_name": "LayoutModel",
      "state": {}
     },
     "f7f84c628bdf4860b3fdd376b36818e3": {
      "model_module": "@jupyter-widgets/controls",
      "model_module_version": "1.5.0",
      "model_name": "HTMLModel",
      "state": {
       "layout": "IPY_MODEL_5a922575b11640a09b626d9865e4f3ae",
       "style": "IPY_MODEL_c567de2ed8514c4ea11aa832b053894c",
       "value": " 1649664/? [00:00&lt;00:00, 39361452.64it/s]"
      }
     },
     "fa65194d7a3d4640b80a2c89dbe084f4": {
      "model_module": "@jupyter-widgets/base",
      "model_module_version": "1.2.0",
      "model_name": "LayoutModel",
      "state": {}
     }
    },
    "version_major": 2,
    "version_minor": 0
   }
  }
 },
 "nbformat": 4,
 "nbformat_minor": 5
}
