{
 "cells": [
  {
   "cell_type": "markdown",
   "id": "2ce7846b-d162-4f0e-b5f8-657b57b9475e",
   "metadata": {},
   "source": [
    "<img src=\"https://cellstrat2.s3.amazonaws.com/PlatformAssets/bluewhitelogo.svg\" alt=\"drawing\" width=\"200\"/>\n",
    "\n",
    "# ML Tuesdays - Session 3\n",
    "## Deep Learning Track\n",
    "### Image Classification Exercise (Convolution Neural Nets)\n",
    "\n",
    "Train a simple neural network in PyTorch to classify images of the CIFAR-10 dataset using CNNs.\n",
    "\n",
    "### Guidelines\n",
    "1. Use the `PyTorch 1.9` kernel in CellStrat Hub.\n",
    "2. The notebook has been split into multiple steps.\n",
    "3. Here are a few references for you to look at to complete this exercise:\n",
    "    1. [Image Classification with PyTorch Webinar (Practical)](https://youtu.be/Dm1u2xwwSbQ)\n",
    "    2. [CNN Overview (Theory)](https://www.youtube.com/watch?v=IavC1j_A1F4)\n",
    "    3. [Conv2D](https://pytorch.org/docs/stable/generated/torch.nn.Conv2d.html#torch.nn.Conv2d)\n",
    "    4. [MaxPool2D](https://pytorch.org/docs/stable/generated/torch.nn.MaxPool2d.html#torch.nn.MaxPool2d)\n",
    "    5. [All NN Layers](https://pytorch.org/docs/stable/nn.html#)\n",
    "4. Make use of the docstrings of the functions and classes using the `shift+tab` shortcut key.\n",
    "5. Refer the internet for any extra help needed or just ping anyone from the team on discord."
   ]
  },
  {
   "cell_type": "code",
   "execution_count": 1,
   "id": "e0acf831-bde9-4874-a3fc-3d964ad46d48",
   "metadata": {},
   "outputs": [],
   "source": [
    "import torch\n",
    "from torch import nn\n",
    "from torch.utils.data import DataLoader\n",
    "from torchvision import datasets\n",
    "from torchvision.transforms import ToTensor"
   ]
  },
  {
   "cell_type": "markdown",
   "id": "235e73e0-adfc-4706-a173-d4fcba4fb847",
   "metadata": {},
   "source": [
    "## Load Data\n",
    "\n",
    "Load the CIFAR10 dataset using torchvision's datasets and add a transform which converts the images to PyTorch Tensors."
   ]
  },
  {
   "cell_type": "code",
   "execution_count": 2,
   "id": "78e3cd41-b920-4993-a331-f88bcd7aee40",
   "metadata": {
    "scrolled": true,
    "tags": []
   },
   "outputs": [
    {
     "name": "stdout",
     "output_type": "stream",
     "text": [
      "Files already downloaded and verified\n",
      "Files already downloaded and verified\n"
     ]
    }
   ],
   "source": [
    "# Download training data from open datasets.\n",
    "training_data = datasets.CIFAR10(\n",
    "    root=\"data\",\n",
    "    train=True,\n",
    "    download=True,\n",
    "    transform=ToTensor(),\n",
    ")\n",
    "\n",
    "# Download test data from open datasets.\n",
    "test_data = datasets.CIFAR10(\n",
    "    root=\"data\",\n",
    "    train=False,\n",
    "    download=True,\n",
    "    transform=ToTensor(),\n",
    ")"
   ]
  },
  {
   "cell_type": "markdown",
   "id": "f5a908f0-be86-4fbb-a254-f3d498f50326",
   "metadata": {},
   "source": [
    "## Create DataLoader\n",
    "Create a dataloader for the dataset and with a batch size of 96."
   ]
  },
  {
   "cell_type": "code",
   "execution_count": 3,
   "id": "d36a26e6-649f-4e8d-a83c-31a28f38af55",
   "metadata": {},
   "outputs": [
    {
     "name": "stdout",
     "output_type": "stream",
     "text": [
      "Shape of X [N, C, H, W]:  torch.Size([96, 3, 32, 32])\n",
      "Shape of y:  torch.Size([96]) torch.int64\n"
     ]
    }
   ],
   "source": [
    "batch_size = 96\n",
    "\n",
    "# Create data loaders.\n",
    "train_dataloader = DataLoader(training_data, batch_size=batch_size)\n",
    "test_dataloader = DataLoader(test_data, batch_size=batch_size)\n",
    "\n",
    "for X, y in test_dataloader:\n",
    "    print(\"Shape of X [N, C, H, W]: \", X.shape)\n",
    "    print(\"Shape of y: \", y.shape, y.dtype)\n",
    "    break"
   ]
  },
  {
   "cell_type": "markdown",
   "id": "eeb121ca-bd25-4ec1-8991-45f57ada7ee2",
   "metadata": {
    "tags": []
   },
   "source": [
    "## Build Model\n",
    "\n",
    "Create a simple neural network which has 2 hidden layers atleast with 256 and 512 neurons in each. Try with different network configurations and see if the performance improves after training."
   ]
  },
  {
   "cell_type": "code",
   "execution_count": 4,
   "id": "a1b2f892-9148-4eb3-9fff-a3800d29729b",
   "metadata": {},
   "outputs": [
    {
     "name": "stdout",
     "output_type": "stream",
     "text": [
      "Using cuda device\n"
     ]
    }
   ],
   "source": [
    "# Get cpu or gpu device automatically for training.\n",
    "device = \"cuda\" if torch.cuda.is_available() else \"cpu\"\n",
    "print(f\"Using {device} device\")"
   ]
  },
  {
   "cell_type": "code",
   "execution_count": 5,
   "id": "4c976118-c725-4367-ae55-735d646fc13f",
   "metadata": {},
   "outputs": [
    {
     "name": "stdout",
     "output_type": "stream",
     "text": [
      "1024\n",
      "CNNModel(\n",
      "  (conv1): Sequential(\n",
      "    (0): Conv2d(3, 64, kernel_size=(5, 5), stride=(1, 1))\n",
      "    (1): ReLU(inplace=True)\n",
      "    (2): MaxPool2d(kernel_size=2, stride=2, padding=0, dilation=1, ceil_mode=False)\n",
      "  )\n",
      "  (conv2): Sequential(\n",
      "    (0): Conv2d(64, 128, kernel_size=(3, 3), stride=(1, 1))\n",
      "    (1): ReLU(inplace=True)\n",
      "    (2): MaxPool2d(kernel_size=2, stride=2, padding=0, dilation=1, ceil_mode=False)\n",
      "  )\n",
      "  (conv3): Sequential(\n",
      "    (0): Conv2d(128, 256, kernel_size=(3, 3), stride=(1, 1))\n",
      "    (1): ReLU(inplace=True)\n",
      "    (2): MaxPool2d(kernel_size=2, stride=2, padding=0, dilation=1, ceil_mode=False)\n",
      "  )\n",
      "  (fc): Sequential(\n",
      "    (0): Linear(in_features=1024, out_features=512, bias=True)\n",
      "    (1): Linear(in_features=512, out_features=10, bias=True)\n",
      "  )\n",
      ")\n"
     ]
    }
   ],
   "source": [
    "class CNNModel(nn.Module):\n",
    "    def __init__(self):\n",
    "        super(CNNModel, self).__init__()\n",
    "        self.conv1 = nn.Sequential(nn.Conv2d(3, 64, 5),\n",
    "                                   nn.ReLU(inplace=True),\n",
    "                                   nn.MaxPool2d(2))\n",
    "        \n",
    "        self.conv2 = nn.Sequential(nn.Conv2d(64, 128, 3),\n",
    "                                   nn.ReLU(inplace=True),\n",
    "                                   nn.MaxPool2d(2))\n",
    "        \n",
    "        self.conv3 = nn.Sequential(nn.Conv2d(128, 256, 3),\n",
    "                                   nn.ReLU(inplace=True),\n",
    "                                   nn.MaxPool2d(2))\n",
    "        \n",
    "        print(self.calculate_size())\n",
    "        self.fc = nn.Sequential(nn.Linear(self.calculate_size(), 512),\n",
    "                                nn.Linear(512, 10))\n",
    "    \n",
    "    def forward(self, x):\n",
    "        # x shape should be [batch_size, channels, height, width]\n",
    "        x = self.conv1(x)\n",
    "        x = self.conv2(x)\n",
    "        x = self.conv3(x)\n",
    "        # reshape the output to flat row vectors of length batch_size\n",
    "        x = x.view(x.size(0), -1)\n",
    "        x = self.fc(x)\n",
    "        return x\n",
    "        \n",
    "    def calculate_size(self):\n",
    "        '''Utility to calculate the output size \n",
    "        from the convolution layers'''\n",
    "        x = torch.randn((1, 3, 32, 32))\n",
    "        x = self.conv1(x)\n",
    "        x = self.conv2(x)\n",
    "        out = self.conv3(x)\n",
    "        size = out.flatten().shape[0]\n",
    "        return size\n",
    "\n",
    "model = CNNModel().to(device)\n",
    "print(model)"
   ]
  },
  {
   "cell_type": "markdown",
   "id": "d3446603-e1c3-43d1-a607-5012bfc19508",
   "metadata": {},
   "source": [
    "## Training\n",
    "\n",
    "1. Define a `CrossEntropyLoss()` loss function\n",
    "2. Create a `Adam` optimizer with learning rate `0.005`\n",
    "3. Write the training and evaluation loop for the train and test sets"
   ]
  },
  {
   "cell_type": "code",
   "execution_count": 6,
   "id": "7e9def2e-daf7-4ae4-a5c7-28d5500cc20e",
   "metadata": {},
   "outputs": [],
   "source": [
    "criterion = nn.CrossEntropyLoss()\n",
    "optimizer = torch.optim.Adam(model.parameters(), lr=5e-4)"
   ]
  },
  {
   "cell_type": "code",
   "execution_count": 7,
   "id": "85af0647-6208-46f7-a08c-eee9cefad924",
   "metadata": {},
   "outputs": [],
   "source": [
    "def train(dataloader, model, loss_fn, optimizer):\n",
    "    size = len(dataloader.dataset)\n",
    "    \n",
    "    # set the model to train mode\n",
    "    model.train()\n",
    "    for batch, (X, y) in enumerate(dataloader):\n",
    "        # Move the inputs to device\n",
    "        X, y = X.to(device), y.to(device)\n",
    "\n",
    "        # Model forward pass\n",
    "        pred = model(X)\n",
    "        \n",
    "        # Compute the loss\n",
    "        loss = criterion(pred, y)\n",
    "\n",
    "        # Backpropagation\n",
    "        optimizer.zero_grad()\n",
    "        loss.backward()\n",
    "        optimizer.step()\n",
    "\n",
    "        if batch % 100 == 0:\n",
    "            loss, current = loss.item(), batch * len(X)\n",
    "            print(f\"Train Loss: {loss:>7f}  [{current:>5d}/{size:>5d}]\")"
   ]
  },
  {
   "cell_type": "code",
   "execution_count": 8,
   "id": "de073ceb-d0f1-42aa-85b0-842e2994fd9a",
   "metadata": {},
   "outputs": [],
   "source": [
    "def test(dataloader, model, loss_fn):\n",
    "    size = len(dataloader.dataset)\n",
    "    num_batches = len(dataloader)\n",
    "    \n",
    "    # set the model to eval mode\n",
    "    model.eval()\n",
    "    \n",
    "    test_loss, correct = 0, 0\n",
    "    \n",
    "    with torch.no_grad():\n",
    "        for X, y in dataloader:\n",
    "            # Move the inputs to device\n",
    "            X, y = X.to(device), y.to(device)\n",
    "            \n",
    "            # Model forward pass\n",
    "            pred = model(X)\n",
    "            \n",
    "            # Compute the loss and add it to the test_loss variable\n",
    "            test_loss += criterion(pred, y).item()\n",
    "            \n",
    "            # Calculate the number of correct predictions and add it to correct variable\n",
    "            correct += (pred.argmax(1) == y).type(torch.float).sum().item()\n",
    "    \n",
    "    # Calculate Mean loss and accuracy\n",
    "    test_loss /= num_batches\n",
    "    correct /= size\n",
    "    print(f\"Test Error: \\n Accuracy: {(100*correct):>0.1f}%, Avg loss: {test_loss:>8f} \\n\")"
   ]
  },
  {
   "cell_type": "code",
   "execution_count": 9,
   "id": "f5731352-cda1-4626-aab6-1f5ad350dba5",
   "metadata": {},
   "outputs": [
    {
     "name": "stdout",
     "output_type": "stream",
     "text": [
      "Epoch 1\n",
      "-------------------------------\n",
      "Train Loss: 2.303755  [    0/50000]\n",
      "Train Loss: 1.796856  [ 9600/50000]\n",
      "Train Loss: 1.601270  [19200/50000]\n",
      "Train Loss: 1.177266  [28800/50000]\n",
      "Train Loss: 1.427886  [38400/50000]\n",
      "Train Loss: 1.657506  [48000/50000]\n",
      "Test Error: \n",
      " Accuracy: 54.2%, Avg loss: 1.277446 \n",
      "\n",
      "Epoch 2\n",
      "-------------------------------\n",
      "Train Loss: 1.282485  [    0/50000]\n",
      "Train Loss: 1.436442  [ 9600/50000]\n",
      "Train Loss: 1.179095  [19200/50000]\n",
      "Train Loss: 0.958619  [28800/50000]\n",
      "Train Loss: 1.139962  [38400/50000]\n",
      "Train Loss: 1.536147  [48000/50000]\n",
      "Test Error: \n",
      " Accuracy: 62.0%, Avg loss: 1.080796 \n",
      "\n",
      "Epoch 3\n",
      "-------------------------------\n",
      "Train Loss: 1.054633  [    0/50000]\n",
      "Train Loss: 1.169326  [ 9600/50000]\n",
      "Train Loss: 0.951887  [19200/50000]\n",
      "Train Loss: 0.808806  [28800/50000]\n",
      "Train Loss: 0.993433  [38400/50000]\n",
      "Train Loss: 1.347019  [48000/50000]\n",
      "Test Error: \n",
      " Accuracy: 65.5%, Avg loss: 0.994448 \n",
      "\n",
      "Epoch 4\n",
      "-------------------------------\n",
      "Train Loss: 0.879860  [    0/50000]\n",
      "Train Loss: 0.941153  [ 9600/50000]\n",
      "Train Loss: 0.851417  [19200/50000]\n",
      "Train Loss: 0.767710  [28800/50000]\n",
      "Train Loss: 0.874903  [38400/50000]\n",
      "Train Loss: 1.157295  [48000/50000]\n",
      "Test Error: \n",
      " Accuracy: 66.8%, Avg loss: 0.970182 \n",
      "\n",
      "Epoch 5\n",
      "-------------------------------\n",
      "Train Loss: 0.819424  [    0/50000]\n",
      "Train Loss: 0.811631  [ 9600/50000]\n",
      "Train Loss: 0.819219  [19200/50000]\n",
      "Train Loss: 0.715901  [28800/50000]\n",
      "Train Loss: 0.773213  [38400/50000]\n",
      "Train Loss: 1.106247  [48000/50000]\n",
      "Test Error: \n",
      " Accuracy: 69.2%, Avg loss: 0.912848 \n",
      "\n",
      "Training Complete!\n"
     ]
    }
   ],
   "source": [
    "# Train for 1 epochs\n",
    "epochs = 5\n",
    "\n",
    "for t in range(epochs):\n",
    "    print(f\"Epoch {t+1}\\n-------------------------------\")\n",
    "    train(train_dataloader, model, criterion, optimizer)\n",
    "    test(test_dataloader, model, criterion)\n",
    "\n",
    "print(\"Training Complete!\")"
   ]
  },
  {
   "cell_type": "markdown",
   "id": "b0ce9bb5-b953-4a8b-b330-6c0f0bfffaf0",
   "metadata": {},
   "source": [
    "## Saving Model\n",
    "\n",
    "Save the model trained as `cifar_model.pth`"
   ]
  },
  {
   "cell_type": "code",
   "execution_count": 10,
   "id": "21dd46d7-0fee-4216-90e9-56b8d806e4e3",
   "metadata": {},
   "outputs": [
    {
     "name": "stdout",
     "output_type": "stream",
     "text": [
      "Saved PyTorch Model State to cifar_model.pth\n"
     ]
    }
   ],
   "source": [
    "torch.save(model.state_dict(), \"cifar_model.pth\")\n",
    "print(\"Saved PyTorch Model State to cifar_model.pth\")"
   ]
  },
  {
   "cell_type": "markdown",
   "id": "43f6f0b0-aa0a-4db0-8a7f-7d60a15ae28a",
   "metadata": {},
   "source": [
    "## Loading Model and Making Predictions\n",
    "\n",
    "1. Crate and Load the model using the saved weights\n",
    "2. Make a prediction function so any single image (ex: from the the test data) can be used to get the final predicted class"
   ]
  },
  {
   "cell_type": "code",
   "execution_count": 11,
   "id": "fe044310-7159-4bd0-b9c2-5a5d50eb7de8",
   "metadata": {},
   "outputs": [
    {
     "name": "stdout",
     "output_type": "stream",
     "text": [
      "1024\n"
     ]
    },
    {
     "data": {
      "text/plain": [
       "<All keys matched successfully>"
      ]
     },
     "execution_count": 11,
     "metadata": {},
     "output_type": "execute_result"
    }
   ],
   "source": [
    "model = CNNModel()\n",
    "model.load_state_dict(torch.load(\"cifar_model.pth\"))"
   ]
  },
  {
   "cell_type": "code",
   "execution_count": 12,
   "id": "acb18386-b21c-4303-a088-14dabd756837",
   "metadata": {},
   "outputs": [],
   "source": [
    "classes = ['airplane', 'automobile', 'bird', 'cat', 'deer', 'dog', 'frog', 'horse', 'ship', 'truck']"
   ]
  },
  {
   "cell_type": "code",
   "execution_count": 13,
   "id": "8ab83507-7c6b-4d06-a167-ad069615187d",
   "metadata": {},
   "outputs": [],
   "source": [
    "def predict(model, x):\n",
    "    '''Returns the predicted integer\n",
    "    Args:\n",
    "        model (nn.Module): The loaded model\n",
    "        x (torch.Tensor): A single test image\n",
    "    '''\n",
    "    # set the model in inference mode\n",
    "    with torch.inference_mode():\n",
    "        # forward pass on the model\n",
    "        logits = model(x)\n",
    "        \n",
    "        # use argmax to get the prediction class integer\n",
    "        pred = logits.argmax(-1)\n",
    "        \n",
    "        # return the prediction\n",
    "        return classes[pred.item()]"
   ]
  },
  {
   "cell_type": "code",
   "execution_count": 18,
   "id": "9ced4cf3-dedb-4d42-817a-5e196ccb6614",
   "metadata": {},
   "outputs": [
    {
     "name": "stdout",
     "output_type": "stream",
     "text": [
      "torch.Size([1, 3, 32, 32])\n"
     ]
    }
   ],
   "source": [
    "# sample test input\n",
    "x, y = test_data[3]\n",
    "x = x.unsqueeze(0)\n",
    "print(x.shape)"
   ]
  },
  {
   "cell_type": "code",
   "execution_count": 19,
   "id": "3aa49f72-67b3-46d8-9f3b-800b10ebfd63",
   "metadata": {},
   "outputs": [
    {
     "name": "stdout",
     "output_type": "stream",
     "text": [
      "Predicted: airplane, Actual: airplane\n"
     ]
    }
   ],
   "source": [
    "# make the prediction\n",
    "pred = predict(model, x)\n",
    "\n",
    "print(f'Predicted: {pred}, Actual: {classes[y]}')"
   ]
  },
  {
   "cell_type": "code",
   "execution_count": null,
   "id": "f4c69ed7-f8f0-4962-b164-3f4f8786330a",
   "metadata": {},
   "outputs": [],
   "source": []
  }
 ],
 "metadata": {
  "interpreter": {
   "hash": "60fbf1aecf0122793952a73a80d27bc8732eff9e143c13520ca117508929b1c7"
  },
  "kernelspec": {
   "display_name": "PyTorch 1.9",
   "language": "python",
   "name": "python3"
  },
  "language_info": {
   "codemirror_mode": {
    "name": "ipython",
    "version": 3
   },
   "file_extension": ".py",
   "mimetype": "text/x-python",
   "name": "python",
   "nbconvert_exporter": "python",
   "pygments_lexer": "ipython3",
   "version": "3.8.10"
  },
  "widgets": {
   "application/vnd.jupyter.widget-state+json": {
    "state": {},
    "version_major": 2,
    "version_minor": 0
   }
  }
 },
 "nbformat": 4,
 "nbformat_minor": 5
}
